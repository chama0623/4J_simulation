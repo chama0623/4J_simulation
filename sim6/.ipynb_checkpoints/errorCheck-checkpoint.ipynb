{
 "cells": [
  {
   "cell_type": "code",
   "execution_count": 1,
   "metadata": {},
   "outputs": [],
   "source": [
    "import numpy as np\n",
    "import pandas as pd\n",
    "import matplotlib.pyplot as plt\n",
    "import seaborn as sns\n",
    "import warnings\n",
    "warnings.simplefilter('ignore')"
   ]
  },
  {
   "cell_type": "code",
   "execution_count": 3,
   "metadata": {},
   "outputs": [
    {
     "data": {
      "text/html": [
       "<div>\n",
       "<style scoped>\n",
       "    .dataframe tbody tr th:only-of-type {\n",
       "        vertical-align: middle;\n",
       "    }\n",
       "\n",
       "    .dataframe tbody tr th {\n",
       "        vertical-align: top;\n",
       "    }\n",
       "\n",
       "    .dataframe thead th {\n",
       "        text-align: right;\n",
       "    }\n",
       "</style>\n",
       "<table border=\"1\" class=\"dataframe\">\n",
       "  <thead>\n",
       "    <tr style=\"text-align: right;\">\n",
       "      <th></th>\n",
       "      <th>step</th>\n",
       "      <th>y1</th>\n",
       "      <th>y2</th>\n",
       "      <th>y1t</th>\n",
       "      <th>y2t</th>\n",
       "    </tr>\n",
       "  </thead>\n",
       "  <tbody>\n",
       "    <tr>\n",
       "      <th>0</th>\n",
       "      <td>0.00</td>\n",
       "      <td>10.000000</td>\n",
       "      <td>10.000000</td>\n",
       "      <td>10.000000</td>\n",
       "      <td>10.000000</td>\n",
       "    </tr>\n",
       "    <tr>\n",
       "      <th>1</th>\n",
       "      <td>0.01</td>\n",
       "      <td>9.100000</td>\n",
       "      <td>10.900000</td>\n",
       "      <td>9.100000</td>\n",
       "      <td>10.900000</td>\n",
       "    </tr>\n",
       "    <tr>\n",
       "      <th>2</th>\n",
       "      <td>0.02</td>\n",
       "      <td>8.199100</td>\n",
       "      <td>11.782900</td>\n",
       "      <td>8.199100</td>\n",
       "      <td>11.782900</td>\n",
       "    </tr>\n",
       "    <tr>\n",
       "      <th>3</th>\n",
       "      <td>0.03</td>\n",
       "      <td>7.314999</td>\n",
       "      <td>12.631163</td>\n",
       "      <td>7.314999</td>\n",
       "      <td>12.631163</td>\n",
       "    </tr>\n",
       "    <tr>\n",
       "      <th>4</th>\n",
       "      <td>0.04</td>\n",
       "      <td>6.464180</td>\n",
       "      <td>13.428821</td>\n",
       "      <td>6.464180</td>\n",
       "      <td>13.428821</td>\n",
       "    </tr>\n",
       "  </tbody>\n",
       "</table>\n",
       "</div>"
      ],
      "text/plain": [
       "   step         y1         y2        y1t        y2t\n",
       "0  0.00  10.000000  10.000000  10.000000  10.000000\n",
       "1  0.01   9.100000  10.900000   9.100000  10.900000\n",
       "2  0.02   8.199100  11.782900   8.199100  11.782900\n",
       "3  0.03   7.314999  12.631163   7.314999  12.631163\n",
       "4  0.04   6.464180  13.428821   6.464180  13.428821"
      ]
     },
     "execution_count": 3,
     "metadata": {},
     "output_type": "execute_result"
    }
   ],
   "source": [
    "df = pd.read_csv(\"kadai1-1.csv\",header=None)\n",
    "df = df.rename(columns={0:\"step\",1:\"y1\",2:\"y2\",3:\"y1t\",4:\"y2t\"})\n",
    "df.head()"
   ]
  },
  {
   "cell_type": "code",
   "execution_count": 14,
   "metadata": {},
   "outputs": [
    {
     "data": {
      "image/png": "[encoded data removed]",
      "text/plain": [
       "<Figure size 864x432 with 1 Axes>"
      ]
     },
     "metadata": {},
     "output_type": "display_data"
    }
   ],
   "source": [
    "plt.figure(facecolor='white',figsize=(12,6))\n",
    "plt.tick_params(direction='in',#目盛り内側\n",
    "                pad =10, #目盛りとラベルの距離\n",
    "                length=7.5, #目盛りの長さ\n",
    "                width=1.5, #目盛りの幅\n",
    "                labelsize=12,\n",
    "               )\n",
    "plt.scatter(df[\"step\"],(df[\"y1t\"]-df[\"y1\"])*100000)\n",
    "plt.grid(False);\n",
    "plt.xlabel(\"時間$t$\",fontsize=15)\n",
    "plt.ylabel(\"計算結果と手計算の誤差[$\\mu $]\",fontsize=15)\n",
    "#plt.ylim(5,18)\n",
    "plt.legend(fontsize=15)\n",
    "plt.savefig(\"ex11error.png\",bbox_inches='tight')"
   ]
  },
  {
   "cell_type": "code",
   "execution_count": 5,
   "metadata": {
    "scrolled": true
   },
   "outputs": [
    {
     "data": {
      "text/plain": [
       "count    1002.000000\n",
       "mean        0.078767\n",
       "std         0.677235\n",
       "min         0.000000\n",
       "25%         0.000000\n",
       "50%         0.000002\n",
       "75%         0.000020\n",
       "max        10.000000\n",
       "Name: y1t, dtype: float64"
      ]
     },
     "execution_count": 5,
     "metadata": {},
     "output_type": "execute_result"
    }
   ],
   "source": [
    "df[\"y1t\"].describe()"
   ]
  },
  {
   "cell_type": "code",
   "execution_count": 9,
   "metadata": {},
   "outputs": [],
   "source": [
    "(df[\"y1t\"]-df[\"y1\"]).to_csv(\"tmp.csv\")"
   ]
  },
  {
   "cell_type": "code",
   "execution_count": null,
   "metadata": {},
   "outputs": [],
   "source": []
  }
 ],
 "metadata": {
  "kernelspec": {
   "display_name": "Python 3",
   "language": "python",
   "name": "python3"
  },
  "language_info": {
   "codemirror_mode": {
    "name": "ipython",
    "version": 3
   },
   "file_extension": ".py",
   "mimetype": "text/x-python",
   "name": "python",
   "nbconvert_exporter": "python",
   "pygments_lexer": "ipython3",
   "version": "3.8.5"
  },
  "toc": {
   "base_numbering": 1,
   "nav_menu": {},
   "number_sections": true,
   "sideBar": true,
   "skip_h1_title": false,
   "title_cell": "Table of Contents",
   "title_sidebar": "Contents",
   "toc_cell": false,
   "toc_position": {},
   "toc_section_display": true,
   "toc_window_display": false
  }
 },
 "nbformat": 4,
 "nbformat_minor": 4
}
