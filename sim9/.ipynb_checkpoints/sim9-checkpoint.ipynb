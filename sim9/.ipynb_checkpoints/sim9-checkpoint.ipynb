{
 "cells": [
  {
   "cell_type": "code",
   "execution_count": 1,
   "metadata": {},
   "outputs": [],
   "source": [
    "import numpy as np\n",
    "import pandas as pd\n",
    "import matplotlib.pyplot as plt\n",
    "import seaborn as sns\n",
    "\n",
    "import warnings\n",
    "warnings.simplefilter('ignore')"
   ]
  },
  {
   "cell_type": "code",
   "execution_count": 11,
   "metadata": {},
   "outputs": [
    {
     "data": {
      "text/html": [
       "<div>\n",
       "<style scoped>\n",
       "    .dataframe tbody tr th:only-of-type {\n",
       "        vertical-align: middle;\n",
       "    }\n",
       "\n",
       "    .dataframe tbody tr th {\n",
       "        vertical-align: top;\n",
       "    }\n",
       "\n",
       "    .dataframe thead th {\n",
       "        text-align: right;\n",
       "    }\n",
       "</style>\n",
       "<table border=\"1\" class=\"dataframe\">\n",
       "  <thead>\n",
       "    <tr style=\"text-align: right;\">\n",
       "      <th></th>\n",
       "      <th>step</th>\n",
       "      <th>X</th>\n",
       "      <th>Vx</th>\n",
       "      <th>Y</th>\n",
       "      <th>Vy</th>\n",
       "    </tr>\n",
       "  </thead>\n",
       "  <tbody>\n",
       "    <tr>\n",
       "      <th>0</th>\n",
       "      <td>0.00</td>\n",
       "      <td>0.100000</td>\n",
       "      <td>0.000000</td>\n",
       "      <td>0.000000</td>\n",
       "      <td>0.10000</td>\n",
       "    </tr>\n",
       "    <tr>\n",
       "      <th>1</th>\n",
       "      <td>0.01</td>\n",
       "      <td>0.100000</td>\n",
       "      <td>0.001005</td>\n",
       "      <td>0.002020</td>\n",
       "      <td>0.10000</td>\n",
       "    </tr>\n",
       "    <tr>\n",
       "      <th>2</th>\n",
       "      <td>0.02</td>\n",
       "      <td>0.100020</td>\n",
       "      <td>0.002010</td>\n",
       "      <td>0.004040</td>\n",
       "      <td>0.09996</td>\n",
       "    </tr>\n",
       "    <tr>\n",
       "      <th>3</th>\n",
       "      <td>0.03</td>\n",
       "      <td>0.100061</td>\n",
       "      <td>0.003015</td>\n",
       "      <td>0.006059</td>\n",
       "      <td>0.09988</td>\n",
       "    </tr>\n",
       "    <tr>\n",
       "      <th>4</th>\n",
       "      <td>0.04</td>\n",
       "      <td>0.100122</td>\n",
       "      <td>0.004018</td>\n",
       "      <td>0.008077</td>\n",
       "      <td>0.09976</td>\n",
       "    </tr>\n",
       "  </tbody>\n",
       "</table>\n",
       "</div>"
      ],
      "text/plain": [
       "   step         X        Vx         Y       Vy\n",
       "0  0.00  0.100000  0.000000  0.000000  0.10000\n",
       "1  0.01  0.100000  0.001005  0.002020  0.10000\n",
       "2  0.02  0.100020  0.002010  0.004040  0.09996\n",
       "3  0.03  0.100061  0.003015  0.006059  0.09988\n",
       "4  0.04  0.100122  0.004018  0.008077  0.09976"
      ]
     },
     "execution_count": 11,
     "metadata": {},
     "output_type": "execute_result"
    }
   ],
   "source": [
    "df = pd.read_csv(\"tmp.csv\",header=None)\n",
    "df = df.rename(columns={0:\"step\",1:\"X\",2:\"Vx\",3:\"Y\",4:\"Vy\"})\n",
    "df.head()"
   ]
  },
  {
   "cell_type": "code",
   "execution_count": 12,
   "metadata": {},
   "outputs": [
    {
     "data": {
      "text/plain": [
       "<matplotlib.legend.Legend at 0x1c1918d61f0>"
      ]
     },
     "execution_count": 12,
     "metadata": {},
     "output_type": "execute_result"
    },
    {
     "data": {
      "image/png": "[encoded data removed]",
      "text/plain": [
       "<Figure size 432x288 with 1 Axes>"
      ]
     },
     "metadata": {},
     "output_type": "display_data"
    }
   ],
   "source": [
    "plt.figure(figsize=(6,4),facecolor=\"white\")\n",
    "plt.tick_params(direction='in',#目盛り内側\n",
    "                pad =10, #目盛りとラベルの距離\n",
    "                length=7.5, #目盛りの長さ\n",
    "                width=1.5, #目盛りの幅\n",
    "                labelsize=12,\n",
    "               )\n",
    "#plt.scatter(df[\"step\"],df[\"y1\"],label=\"$y_1$\",s=100)\n",
    "#plt.scatter(df[\"step\"],df[\"y2\"],label=\"$y_2$\",marker=\"^\",s=100)\n",
    "plt.plot(df[\"X\"],df[\"Y\"],label=\"$X-Y$\",linewidth=3)\n",
    "#plt.plot(df[\"step\"],df[\"Y\"],label=\"$Y$\",linewidth=3)\n",
    "plt.grid(False);\n",
    "#plt.xlabel(\"時間$t$\",fontsize=15)\n",
    "#plt.ylabel(\"個体数\",fontsize=15)\n",
    "#plt.ylim(-1,20)\n",
    "plt.legend(fontsize=15)\n",
    "#plt.savefig(\"ex2-3.png\",bbox_inches='tight')"
   ]
  },
  {
   "cell_type": "code",
   "execution_count": null,
   "metadata": {},
   "outputs": [],
   "source": []
  }
 ],
 "metadata": {
  "kernelspec": {
   "display_name": "Python 3",
   "language": "python",
   "name": "python3"
  },
  "language_info": {
   "codemirror_mode": {
    "name": "ipython",
    "version": 3
   },
   "file_extension": ".py",
   "mimetype": "text/x-python",
   "name": "python",
   "nbconvert_exporter": "python",
   "pygments_lexer": "ipython3",
   "version": "3.8.5"
  },
  "toc": {
   "base_numbering": 1,
   "nav_menu": {},
   "number_sections": true,
   "sideBar": true,
   "skip_h1_title": false,
   "title_cell": "Table of Contents",
   "title_sidebar": "Contents",
   "toc_cell": false,
   "toc_position": {},
   "toc_section_display": true,
   "toc_window_display": false
  }
 },
 "nbformat": 4,
 "nbformat_minor": 2
}
