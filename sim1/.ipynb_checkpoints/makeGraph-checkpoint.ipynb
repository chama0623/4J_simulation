{
 "cells": [
  {
   "cell_type": "code",
   "execution_count": 1,
   "metadata": {},
   "outputs": [],
   "source": [
    "import numpy as np\n",
    "import pandas as pd\n",
    "import matplotlib.pyplot as plt\n",
    "import seaborn as sns\n",
    "plt.style.use(\"seaborn-whitegrid\")\n",
    "import matplotlib as mpl\n",
    "mpl.rcParams['font.family']='IPAexGothic'"
   ]
  },
  {
   "cell_type": "code",
   "execution_count": 5,
   "metadata": {},
   "outputs": [
    {
     "data": {
      "text/html": [
       "<div>\n",
       "<style scoped>\n",
       "    .dataframe tbody tr th:only-of-type {\n",
       "        vertical-align: middle;\n",
       "    }\n",
       "\n",
       "    .dataframe tbody tr th {\n",
       "        vertical-align: top;\n",
       "    }\n",
       "\n",
       "    .dataframe thead th {\n",
       "        text-align: right;\n",
       "    }\n",
       "</style>\n",
       "<table border=\"1\" class=\"dataframe\">\n",
       "  <thead>\n",
       "    <tr style=\"text-align: right;\">\n",
       "      <th></th>\n",
       "      <th>split</th>\n",
       "      <th>Trap ans</th>\n",
       "      <th>error</th>\n",
       "    </tr>\n",
       "  </thead>\n",
       "  <tbody>\n",
       "    <tr>\n",
       "      <th>0</th>\n",
       "      <td>1</td>\n",
       "      <td>0.564099</td>\n",
       "      <td>1.479313e-02</td>\n",
       "    </tr>\n",
       "    <tr>\n",
       "      <th>1</th>\n",
       "      <td>2</td>\n",
       "      <td>0.553084</td>\n",
       "      <td>3.778157e-03</td>\n",
       "    </tr>\n",
       "    <tr>\n",
       "      <th>2</th>\n",
       "      <td>4</td>\n",
       "      <td>0.550256</td>\n",
       "      <td>9.500312e-04</td>\n",
       "    </tr>\n",
       "    <tr>\n",
       "      <th>3</th>\n",
       "      <td>8</td>\n",
       "      <td>0.549544</td>\n",
       "      <td>2.378537e-04</td>\n",
       "    </tr>\n",
       "    <tr>\n",
       "      <th>4</th>\n",
       "      <td>16</td>\n",
       "      <td>0.549366</td>\n",
       "      <td>5.947824e-05</td>\n",
       "    </tr>\n",
       "    <tr>\n",
       "      <th>5</th>\n",
       "      <td>32</td>\n",
       "      <td>0.549321</td>\n",
       "      <td>1.486352e-05</td>\n",
       "    </tr>\n",
       "    <tr>\n",
       "      <th>6</th>\n",
       "      <td>64</td>\n",
       "      <td>0.549310</td>\n",
       "      <td>3.708528e-06</td>\n",
       "    </tr>\n",
       "    <tr>\n",
       "      <th>7</th>\n",
       "      <td>128</td>\n",
       "      <td>0.549307</td>\n",
       "      <td>9.196997e-07</td>\n",
       "    </tr>\n",
       "    <tr>\n",
       "      <th>8</th>\n",
       "      <td>256</td>\n",
       "      <td>0.549306</td>\n",
       "      <td>2.224875e-07</td>\n",
       "    </tr>\n",
       "  </tbody>\n",
       "</table>\n",
       "</div>"
      ],
      "text/plain": [
       "   split  Trap ans         error\n",
       "0      1  0.564099  1.479313e-02\n",
       "1      2  0.553084  3.778157e-03\n",
       "2      4  0.550256  9.500312e-04\n",
       "3      8  0.549544  2.378537e-04\n",
       "4     16  0.549366  5.947824e-05\n",
       "5     32  0.549321  1.486352e-05\n",
       "6     64  0.549310  3.708528e-06\n",
       "7    128  0.549307  9.196997e-07\n",
       "8    256  0.549306  2.224875e-07"
      ]
     },
     "execution_count": 5,
     "metadata": {},
     "output_type": "execute_result"
    }
   ],
   "source": [
    "df = pd.read_csv(\"kadai1.csv\",header=None)\n",
    "df = df.rename(columns={0:\"split\",1:\"Trap ans\",2:\"error\"})\n",
    "df"
   ]
  },
  {
   "cell_type": "code",
   "execution_count": 39,
   "metadata": {},
   "outputs": [
    {
     "data": {
      "image/png": "[encoded data removed]",
      "text/plain": [
       "<Figure size 432x288 with 1 Axes>"
      ]
     },
     "metadata": {},
     "output_type": "display_data"
    }
   ],
   "source": [
    "truth_x = np.linspace(-1,256,258)\n",
    "truth_y = [np.log(3)/2]*258\n",
    "plt.figure(facecolor=\"white\")\n",
    "plt.tick_params(direction='in',#目盛り内側\n",
    "                pad =10, #目盛りとラベルの距離\n",
    "                length=7.5, #目盛りの長さ\n",
    "                width=1.5, #目盛りの幅\n",
    "                labelsize=12,\n",
    "               )\n",
    "plt.plot(truth_x,truth_y,linewidth = 3.0,color=\"red\",label=\"解析解\")\n",
    "plt.scatter(np.log(df[\"split\"]),df[\"Trap ans\"],s=100,label=\"数値解\")\n",
    "plt.xlim(-1,6)\n",
    "plt.ylim(0.54,0.58)\n",
    "plt.xlabel(\"log 分割数\",fontsize=15)\n",
    "plt.ylabel(\"数値解\",fontsize=15)\n",
    "plt.legend()\n",
    "plt.grid(False)\n",
    "plt.savefig(\"kadai1r.png\",bbox_inches=\"tight\")"
   ]
  },
  {
   "cell_type": "code",
   "execution_count": null,
   "metadata": {},
   "outputs": [],
   "source": []
  }
 ],
 "metadata": {
  "kernelspec": {
   "display_name": "Python 3",
   "language": "python",
   "name": "python3"
  },
  "language_info": {
   "codemirror_mode": {
    "name": "ipython",
    "version": 3
   },
   "file_extension": ".py",
   "mimetype": "text/x-python",
   "name": "python",
   "nbconvert_exporter": "python",
   "pygments_lexer": "ipython3",
   "version": "3.8.5"
  },
  "toc": {
   "base_numbering": 1,
   "nav_menu": {},
   "number_sections": true,
   "sideBar": true,
   "skip_h1_title": false,
   "title_cell": "Table of Contents",
   "title_sidebar": "Contents",
   "toc_cell": false,
   "toc_position": {},
   "toc_section_display": true,
   "toc_window_display": false
  }
 },
 "nbformat": 4,
 "nbformat_minor": 4
}
