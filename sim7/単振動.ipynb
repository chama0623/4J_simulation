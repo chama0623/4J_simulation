{
 "cells": [
  {
   "cell_type": "code",
   "execution_count": 127,
   "metadata": {},
   "outputs": [],
   "source": [
    "import numpy as np\n",
    "import matplotlib.pyplot as plt\n",
    "import seaborn as sns\n",
    "import pandas as pd"
   ]
  },
  {
   "cell_type": "code",
   "execution_count": 136,
   "metadata": {},
   "outputs": [
    {
     "data": {
      "text/html": [
       "<div>\n",
       "<style scoped>\n",
       "    .dataframe tbody tr th:only-of-type {\n",
       "        vertical-align: middle;\n",
       "    }\n",
       "\n",
       "    .dataframe tbody tr th {\n",
       "        vertical-align: top;\n",
       "    }\n",
       "\n",
       "    .dataframe thead th {\n",
       "        text-align: right;\n",
       "    }\n",
       "</style>\n",
       "<table border=\"1\" class=\"dataframe\">\n",
       "  <thead>\n",
       "    <tr style=\"text-align: right;\">\n",
       "      <th></th>\n",
       "      <th>step</th>\n",
       "      <th>y</th>\n",
       "      <th>v</th>\n",
       "    </tr>\n",
       "  </thead>\n",
       "  <tbody>\n",
       "    <tr>\n",
       "      <th>0</th>\n",
       "      <td>0.001</td>\n",
       "      <td>10.000000</td>\n",
       "      <td>-0.020000</td>\n",
       "    </tr>\n",
       "    <tr>\n",
       "      <th>1</th>\n",
       "      <td>0.002</td>\n",
       "      <td>9.999980</td>\n",
       "      <td>-0.039940</td>\n",
       "    </tr>\n",
       "    <tr>\n",
       "      <th>2</th>\n",
       "      <td>0.003</td>\n",
       "      <td>9.999940</td>\n",
       "      <td>-0.059820</td>\n",
       "    </tr>\n",
       "    <tr>\n",
       "      <th>3</th>\n",
       "      <td>0.004</td>\n",
       "      <td>9.999880</td>\n",
       "      <td>-0.079641</td>\n",
       "    </tr>\n",
       "    <tr>\n",
       "      <th>4</th>\n",
       "      <td>0.005</td>\n",
       "      <td>9.999801</td>\n",
       "      <td>-0.099401</td>\n",
       "    </tr>\n",
       "  </tbody>\n",
       "</table>\n",
       "</div>"
      ],
      "text/plain": [
       "    step          y         v\n",
       "0  0.001  10.000000 -0.020000\n",
       "1  0.002   9.999980 -0.039940\n",
       "2  0.003   9.999940 -0.059820\n",
       "3  0.004   9.999880 -0.079641\n",
       "4  0.005   9.999801 -0.099401"
      ]
     },
     "execution_count": 136,
     "metadata": {},
     "output_type": "execute_result"
    }
   ],
   "source": [
    "df = pd.read_csv(\"harmonic.csv\",header = None)\n",
    "df = df.rename(columns={0:\"step\",1:\"y\",2:\"v\"})\n",
    "df.head()"
   ]
  },
  {
   "cell_type": "code",
   "execution_count": 139,
   "metadata": {
    "scrolled": true
   },
   "outputs": [
    {
     "data": {
      "image/png": "[encoded data removed]",
      "text/plain": [
       "<Figure size 600x400 with 1 Axes>"
      ]
     },
     "metadata": {},
     "output_type": "display_data"
    }
   ],
   "source": [
    "k = 2\n",
    "tscale = np.linspace(0,10,len(df))\n",
    "ycos = 10*np.cos(np.sqrt(k)*tscale)\n",
    "vsin = -10*(np.sqrt(k))*np.sin(np.sqrt(k)*tscale)\n",
    "plt.figure(facecolor=\"white\",figsize=(6,4),dpi=100)\n",
    "plt.tick_params(direction='in',#目盛り内側\n",
    "                pad =10, #目盛りとラベルの距離\n",
    "                length=7.5, #目盛りの長さ\n",
    "                width=1.5, #目盛りの幅\n",
    "                labelsize=12,\n",
    "               )\n",
    "plt.plot(df[\"step\"],df[\"y\"],linewidth=2,label=\"y\")\n",
    "plt.plot(df[\"step\"],df[\"v\"],linewidth=2,linestyle=\"dashed\",label=\"v\")\n",
    "# plt.plot(tscale,vsin,linestyle=\"dashed\",linewidth=2,label=\"理論値\")\n",
    "plt.xlabel(\"t\",fontsize=15)\n",
    "plt.ylabel(\"計算値\",fontsize=15)\n",
    "plt.ylim(-6,12)\n",
    "plt.legend(fontsize=13)\n",
    "plt.savefig(\"harmonic.png\",bbox_inches='tight')"
   ]
  },
  {
   "cell_type": "code",
   "execution_count": 109,
   "metadata": {},
   "outputs": [
    {
     "data": {
      "text/plain": [
       "3.1067515971690547"
      ]
     },
     "execution_count": 109,
     "metadata": {},
     "output_type": "execute_result"
    }
   ],
   "source": [
    "np.abs((df[\"y\"])).std()"
   ]
  },
  {
   "cell_type": "code",
   "execution_count": 110,
   "metadata": {},
   "outputs": [
    {
     "data": {
      "text/plain": [
       "0    3.077504\n",
       "dtype: float64"
      ]
     },
     "execution_count": 110,
     "metadata": {},
     "output_type": "execute_result"
    }
   ],
   "source": [
    "np.abs(pd.DataFrame(ycos)).std()"
   ]
  },
  {
   "cell_type": "code",
   "execution_count": 111,
   "metadata": {},
   "outputs": [
    {
     "data": {
      "text/plain": [
       "0    0.950366\n",
       "dtype: float64"
      ]
     },
     "execution_count": 111,
     "metadata": {},
     "output_type": "execute_result"
    }
   ],
   "source": [
    "(np.abs((df[\"y\"])).std()-np.abs(pd.DataFrame(ycos)).std())/np.abs(pd.DataFrame(ycos)).std() *100"
   ]
  },
  {
   "cell_type": "markdown",
   "metadata": {},
   "source": [
    "h = 0.1 ダメ  \n",
    "h = 0.25 ダメ     \n",
    "h = 0.05 ダメ  \n",
    "h = 0.025 ダメ  \n",
    "h = 0.02 ダメ  \n",
    "h = 0.015 微妙  \n",
    "h = 0.01 ok "
   ]
  },
  {
   "cell_type": "code",
   "execution_count": null,
   "metadata": {},
   "outputs": [],
   "source": []
  }
 ],
 "metadata": {
  "kernelspec": {
   "display_name": "Python 3",
   "language": "python",
   "name": "python3"
  },
  "language_info": {
   "codemirror_mode": {
    "name": "ipython",
    "version": 3
   },
   "file_extension": ".py",
   "mimetype": "text/x-python",
   "name": "python",
   "nbconvert_exporter": "python",
   "pygments_lexer": "ipython3",
   "version": "3.8.5"
  },
  "toc": {
   "base_numbering": 1,
   "nav_menu": {},
   "number_sections": true,
   "sideBar": true,
   "skip_h1_title": false,
   "title_cell": "Table of Contents",
   "title_sidebar": "Contents",
   "toc_cell": false,
   "toc_position": {},
   "toc_section_display": true,
   "toc_window_display": false
  }
 },
 "nbformat": 4,
 "nbformat_minor": 2
}
